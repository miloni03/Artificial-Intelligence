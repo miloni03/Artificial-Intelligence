{
  "nbformat": 4,
  "nbformat_minor": 0,
  "metadata": {
    "colab": {
      "provenance": []
    },
    "kernelspec": {
      "name": "python3",
      "display_name": "Python 3"
    },
    "language_info": {
      "name": "python"
    }
  },
  "cells": [
    {
      "cell_type": "code",
      "execution_count": null,
      "metadata": {
        "colab": {
          "base_uri": "https://localhost:8080/"
        },
        "id": "8Z0JEYFHOQEr",
        "outputId": "434feccd-ea1f-4740-810f-12b7868c6318"
      },
      "outputs": [
        {
          "output_type": "stream",
          "name": "stdout",
          "text": [
            "Looking in indexes: https://pypi.org/simple, https://us-python.pkg.dev/colab-wheels/public/simple/\n",
            "Requirement already satisfied: geopy in /usr/local/lib/python3.7/dist-packages (1.17.0)\n",
            "Requirement already satisfied: geographiclib<2,>=1.49 in /usr/local/lib/python3.7/dist-packages (from geopy) (1.52)\n"
          ]
        }
      ],
      "source": [
        "!pip install geopy"
      ]
    },
    {
      "cell_type": "code",
      "source": [
        "!pip install haversine"
      ],
      "metadata": {
        "colab": {
          "base_uri": "https://localhost:8080/"
        },
        "id": "-cLt-BXjSr7k",
        "outputId": "9487b8e9-6318-483e-f1b0-268e4c5670d3"
      },
      "execution_count": null,
      "outputs": [
        {
          "output_type": "stream",
          "name": "stdout",
          "text": [
            "Looking in indexes: https://pypi.org/simple, https://us-python.pkg.dev/colab-wheels/public/simple/\n",
            "Requirement already satisfied: haversine in /usr/local/lib/python3.7/dist-packages (2.7.0)\n"
          ]
        }
      ]
    },
    {
      "cell_type": "code",
      "source": [
        "locationList = [\"Juhu Beach\", \"JW Marriott Mumbai Juhu\", \"Nanavati Hospital\", \"Cooper Municipal Hospital\", \"Pushpa Narsee Park\", \"PVR Juhu Mumbai\", \"Juhu Airport\", \"Milan Subway Rd\", \"Carter road Bandra west\", \"Infiniti Mall\", \"Linking Rd\", \"Mahavir Hospital\", \"Bandra Worli Sea Link\", \"Nehru planetarium\", \"Jaslok Hospital & Research Centre\", \"Haji Ali Dargah\", \"Versova SOCIAL\", \"Chhatrapati Shivaji Maharaj Terminus\",'Nair Hospital','Girgaon Chowpatty','Shivaji Park dadar','Dadar Railway Station','Siddhivinayak Temple, Dadar','Shiv Sena Bhavan','Apollo Bandar, Colaba','Mahalakshmi,Mumbai','Saifee Hospital','Gateway of India']"
      ],
      "metadata": {
        "id": "7XprKPYcP6EH"
      },
      "execution_count": null,
      "outputs": []
    },
    {
      "cell_type": "code",
      "source": [
        "from geopy.geocoders import Nominatim\n",
        "locationLL={}\n",
        "for i in locationList:\n",
        "  loc = Nominatim(user_agent=\"GetLoc\")\n",
        "  getLoc = loc.geocode(i)\n",
        "  locationLL[i]=[getLoc.latitude,getLoc.longitude]\n",
        "locationLL"
      ],
      "metadata": {
        "colab": {
          "base_uri": "https://localhost:8080/"
        },
        "id": "9-ouvm9dS7yR",
        "outputId": "051be366-424f-4a98-a1f3-591a2a55a0c6"
      },
      "execution_count": null,
      "outputs": [
        {
          "output_type": "execute_result",
          "data": {
            "text/plain": [
              "{'Juhu Beach': [19.122146450000002, 72.81876151188848],\n",
              " 'JW Marriott Mumbai Juhu': [19.10184195, 72.82607104577414],\n",
              " 'Nanavati Hospital': [19.0959684, 72.8400115],\n",
              " 'Cooper Municipal Hospital': [19.1077452, 72.83622102841754],\n",
              " 'Pushpa Narsee Park': [19.10474835, 72.83030740629711],\n",
              " 'PVR Juhu Mumbai': [19.1148228, 72.8275031],\n",
              " 'Juhu Airport': [19.0977728, 72.83322295533156],\n",
              " 'Milan Subway Rd': [19.0904782, 72.8426101],\n",
              " 'Carter road Bandra west': [19.0607341, 72.8222907],\n",
              " 'Infiniti Mall': [19.1413365, 72.83090335658065],\n",
              " 'Linking Rd': [19.0601903, 72.8364883],\n",
              " 'Mahavir Hospital': [19.0632122, 72.9197954],\n",
              " 'Bandra Worli Sea Link': [19.0136539, 72.8134202],\n",
              " 'Nehru planetarium': [18.99012665, 72.81476589455485],\n",
              " 'Jaslok Hospital & Research Centre': [18.971700499999997, 72.80992573604186],\n",
              " 'Haji Ali Dargah': [18.9828229, 72.8089926],\n",
              " 'Versova SOCIAL': [19.1263675, 72.8205036],\n",
              " 'Chhatrapati Shivaji Maharaj Terminus': [18.9398453, 72.83547038112503],\n",
              " 'Nair Hospital': [18.9730222, 72.8219132],\n",
              " 'Girgaon Chowpatty': [18.954354350000003, 72.81232247040975],\n",
              " 'Shivaji Park dadar': [19.027236000000002, 72.8383477969171],\n",
              " 'Dadar Railway Station': [19.019282, 72.8428757],\n",
              " 'Siddhivinayak Temple, Dadar': [19.01687745, 72.83040035722212],\n",
              " 'Shiv Sena Bhavan': [19.02466705, 72.84052426674205],\n",
              " 'Apollo Bandar, Colaba': [18.9183748, 72.8314429],\n",
              " 'Mahalakshmi,Mumbai': [18.9892129, 72.8186798],\n",
              " 'Saifee Hospital': [18.952506800000002, 72.81817946187279],\n",
              " 'Gateway of India': [18.9219661, 72.83456565615893]}"
            ]
          },
          "metadata": {},
          "execution_count": 65
        }
      ]
    },
    {
      "cell_type": "code",
      "source": [
        "from haversine import haversine, Unit\n",
        "def distance(i,j):\n",
        "  return haversine(i,j)"
      ],
      "metadata": {
        "id": "N-OUUNDcSvwz"
      },
      "execution_count": null,
      "outputs": []
    },
    {
      "cell_type": "code",
      "source": [
        "def generateParentChildren(visited,open,locationLL,locationList):\n",
        "  traverse = [x for x in locationList if x not in visited]\n",
        "  dist=[]\n",
        "  for i in range(len(traverse)):\n",
        "    dist.append(distance(locationLL[visited[-1]],locationLL[traverse[i]]))\n",
        "  c=3\n",
        "  childs=[]\n",
        "  count=len(traverse)\n",
        "  while(c>0 and count>=1):\n",
        "    childs.append(traverse[dist.index(min(dist))])\n",
        "    c-=1\n",
        "    count-=1\n",
        "    dist[dist.index(min(dist))]=999\n",
        "  parentChildren[visited[-1]]=childs\n",
        "  open.extend([i for i in childs if i not in open])"
      ],
      "metadata": {
        "id": "gY74O-rPdz_K"
      },
      "execution_count": null,
      "outputs": []
    },
    {
      "cell_type": "code",
      "source": [
        "visited=[locationList[0]]\n",
        "parentChildren={}\n",
        "open=[]\n",
        "generateParentChildren(visited,open,locationLL,locationList)\n",
        "while(len(open)>=1):\n",
        "  visited.append(open[0])\n",
        "  del open[0]\n",
        "  generateParentChildren(visited,open,locationLL,locationList)\n",
        "print(\"Open:=> \",open)\n",
        "print(\"Parent Children:=> \",parentChildren)"
      ],
      "metadata": {
        "colab": {
          "base_uri": "https://localhost:8080/"
        },
        "id": "FjYKPmStUSKS",
        "outputId": "82216c1b-d0cd-4a34-f375-f7dec3be24bd"
      },
      "execution_count": null,
      "outputs": [
        {
          "output_type": "stream",
          "name": "stdout",
          "text": [
            "Open:=>  []\n",
            "Parent Children:=>  {'Juhu Beach': ['Versova SOCIAL', 'PVR Juhu Mumbai', 'Pushpa Narsee Park'], 'Versova SOCIAL': ['PVR Juhu Mumbai', 'Infiniti Mall', 'Pushpa Narsee Park'], 'PVR Juhu Mumbai': ['Pushpa Narsee Park', 'Cooper Municipal Hospital', 'JW Marriott Mumbai Juhu'], 'Pushpa Narsee Park': ['JW Marriott Mumbai Juhu', 'Cooper Municipal Hospital', 'Juhu Airport'], 'Infiniti Mall': ['Cooper Municipal Hospital', 'JW Marriott Mumbai Juhu', 'Juhu Airport'], 'Cooper Municipal Hospital': ['Juhu Airport', 'JW Marriott Mumbai Juhu', 'Nanavati Hospital'], 'JW Marriott Mumbai Juhu': ['Juhu Airport', 'Nanavati Hospital', 'Milan Subway Rd'], 'Juhu Airport': ['Nanavati Hospital', 'Milan Subway Rd', 'Linking Rd'], 'Nanavati Hospital': ['Milan Subway Rd', 'Linking Rd', 'Carter road Bandra west'], 'Milan Subway Rd': ['Linking Rd', 'Carter road Bandra west', 'Shivaji Park dadar'], 'Linking Rd': ['Carter road Bandra west', 'Shivaji Park dadar', 'Shiv Sena Bhavan'], 'Carter road Bandra west': ['Shivaji Park dadar', 'Shiv Sena Bhavan', 'Siddhivinayak Temple, Dadar'], 'Shivaji Park dadar': ['Shiv Sena Bhavan', 'Dadar Railway Station', 'Siddhivinayak Temple, Dadar'], 'Shiv Sena Bhavan': ['Dadar Railway Station', 'Siddhivinayak Temple, Dadar', 'Bandra Worli Sea Link'], 'Siddhivinayak Temple, Dadar': ['Dadar Railway Station', 'Bandra Worli Sea Link', 'Mahalakshmi,Mumbai'], 'Dadar Railway Station': ['Bandra Worli Sea Link', 'Mahalakshmi,Mumbai', 'Nehru planetarium'], 'Bandra Worli Sea Link': ['Nehru planetarium', 'Mahalakshmi,Mumbai', 'Haji Ali Dargah'], 'Mahalakshmi,Mumbai': ['Nehru planetarium', 'Haji Ali Dargah', 'Nair Hospital'], 'Nehru planetarium': ['Haji Ali Dargah', 'Nair Hospital', 'Jaslok Hospital & Research Centre'], 'Haji Ali Dargah': ['Jaslok Hospital & Research Centre', 'Nair Hospital', 'Girgaon Chowpatty'], 'Nair Hospital': ['Jaslok Hospital & Research Centre', 'Girgaon Chowpatty', 'Saifee Hospital'], 'Jaslok Hospital & Research Centre': ['Girgaon Chowpatty', 'Saifee Hospital', 'Chhatrapati Shivaji Maharaj Terminus'], 'Girgaon Chowpatty': ['Saifee Hospital', 'Chhatrapati Shivaji Maharaj Terminus', 'Gateway of India'], 'Saifee Hospital': ['Chhatrapati Shivaji Maharaj Terminus', 'Gateway of India', 'Apollo Bandar, Colaba'], 'Chhatrapati Shivaji Maharaj Terminus': ['Gateway of India', 'Apollo Bandar, Colaba', 'Mahavir Hospital'], 'Gateway of India': ['Apollo Bandar, Colaba', 'Mahavir Hospital'], 'Apollo Bandar, Colaba': ['Mahavir Hospital'], 'Mahavir Hospital': []}\n"
          ]
        }
      ]
    },
    {
      "cell_type": "markdown",
      "source": [
        "##Implementation of A*"
      ],
      "metadata": {
        "id": "vckik9l5nHmJ"
      }
    },
    {
      "cell_type": "markdown",
      "source": [
        "// A* Search Algorithm\n",
        "1.  Initialize the open list\n",
        "2.  Initialize the closed list\n",
        "    put the starting node on the open \n",
        "    list (you can leave its f at zero)\n",
        "\n",
        "3.  while the open list is not empty\n",
        "\n",
        "    a) find the node with the least f on \n",
        "       the open list, call it \"q\"\n",
        "\n",
        "    b) pop q off the open list\n",
        "  \n",
        "    c) generate q's 8 successors and set their \n",
        "       parents to q\n",
        "   \n",
        "    d) for each successor\n",
        "        i) if successor is the goal, stop search\n",
        "        \n",
        "        ii) else, compute both g and h for successor\n",
        "          successor.g = q.g + distance between \n",
        "                              successor and q\n",
        "          successor.h = distance from goal to \n",
        "          successor (This can be done using many \n",
        "          ways, we will discuss three heuristics- \n",
        "          Manhattan, Diagonal and Euclidean \n",
        "          Heuristics)\n",
        "          \n",
        "          successor.f = successor.g + successor.h\n",
        "\n",
        "        iii) if a node with the same position as \n",
        "            successor is in the OPEN list which has a \n",
        "           lower f than successor, skip this successor\n",
        "\n",
        "        iV) if a node with the same position as \n",
        "            successor  is in the CLOSED list which has\n",
        "            a lower f than successor, skip this successor\n",
        "            otherwise, add  the node to the open list\n",
        "     end (for loop)\n",
        "  \n",
        "    e) push q on the closed list\n",
        "    end (while loop)"
      ],
      "metadata": {
        "id": "NrCQQiMZs3No"
      }
    },
    {
      "cell_type": "code",
      "source": [
        "def printPath(t):\n",
        "  print(\"Path =>\",end=\" \")\n",
        "  while PC[t]!=None:\n",
        "    print(t,end=\" <- \")\n",
        "    t=PC[t]\n",
        "  print(t)"
      ],
      "metadata": {
        "id": "IbLJAptNrAT6"
      },
      "execution_count": null,
      "outputs": []
    },
    {
      "cell_type": "code",
      "source": [
        "def goalTest(city,goal):\n",
        "  if goal==city:\n",
        "    print(\"\\n\\nFinal\\n\")\n",
        "    printPath(city)\n",
        "    return True\n",
        "  printPath(city)\n",
        "  return False"
      ],
      "metadata": {
        "id": "tm_D57RenKaW"
      },
      "execution_count": null,
      "outputs": []
    },
    {
      "cell_type": "code",
      "source": [
        "def moveGen(p):\n",
        "  childs=parentChildren[p]\n",
        "  return childs"
      ],
      "metadata": {
        "id": "3oxwIzfjD8tM"
      },
      "execution_count": null,
      "outputs": []
    },
    {
      "cell_type": "code",
      "source": [
        "def getNew(open):\n",
        "  return min(open,key=open.get)"
      ],
      "metadata": {
        "id": "Po5m5A7cxcjk"
      },
      "execution_count": null,
      "outputs": []
    },
    {
      "cell_type": "code",
      "source": [
        "def propogateImprovement(m):\n",
        "  nb=moveGen(m)\n",
        "  for s in nb:\n",
        "    newGvalue=G[m]+distance(locationLL[m],locationLL[s])\n",
        "    if newGvalue<G[s]:\n",
        "      PC[s]=m\n",
        "      G[s]=newGvalue\n",
        "      if s in closed:\n",
        "        propogateImprovement(s)"
      ],
      "metadata": {
        "id": "YDIaPXVuWYqH"
      },
      "execution_count": null,
      "outputs": []
    },
    {
      "cell_type": "code",
      "source": [
        "city='Juhu Beach'\n",
        "goal='Gateway of India'\n",
        "G={}\n",
        "F={}\n",
        "H={}\n",
        "H[city]=distance(locationLL[city],locationLL[goal])\n",
        "F[city]=H[city]\n",
        "G[city]=0\n",
        "open={city:H[city]}\n",
        "closed=[]\n",
        "PC={city:None}"
      ],
      "metadata": {
        "id": "6drRZBufB8gm"
      },
      "execution_count": null,
      "outputs": []
    },
    {
      "cell_type": "code",
      "source": [
        "while len(open)>=1:\n",
        "  n=getNew(open)\n",
        "  del open[n]\n",
        "  closed.append(n)\n",
        "  if(goalTest(n,goal)):\n",
        "    break\n",
        "  neighbours=moveGen(n)\n",
        "  for m in neighbours:\n",
        "    if m not in open and m not in closed:\n",
        "      PC[m]=n\n",
        "      G[m]=G[n]+distance(locationLL[n],locationLL[m])\n",
        "      F[m]=G[m]+distance(locationLL[m],locationLL[goal])\n",
        "      open[m]=F[m]\n",
        "    elif m in open:\n",
        "      if G[n]+distance(locationLL[n],locationLL[m])<G[m]:\n",
        "        PC[m]=n\n",
        "        G[m]=G[n]+distance(locationLL[n],locationLL[m])\n",
        "        F[m]=G[m]+distance(locationLL[m],locationLL[goal])\n",
        "        open[m]=F[m]\n",
        "    elif m in closed:\n",
        "      if G[n]+distance(locationLL[n],locationLL[m])<G[m]:\n",
        "        PC[m]=n\n",
        "        G[m]=G[n]+distance(locationLL[n],locationLL[m])\n",
        "        F[m]=G[m]+distance(locationLL[m],locationLL[goal])\n",
        "        open[m]=F[m]\n",
        "        propogateImprovement(m)"
      ],
      "metadata": {
        "colab": {
          "base_uri": "https://localhost:8080/"
        },
        "id": "uRDoC-8Pn-PN",
        "outputId": "358ca90c-1d58-42bd-f42c-34310a12cf40"
      },
      "execution_count": null,
      "outputs": [
        {
          "output_type": "stream",
          "name": "stdout",
          "text": [
            "Path => Juhu Beach\n",
            "Path => Pushpa Narsee Park <- Juhu Beach\n",
            "Path => Juhu Airport <- Pushpa Narsee Park <- Juhu Beach\n",
            "Path => Linking Rd <- Juhu Airport <- Pushpa Narsee Park <- Juhu Beach\n",
            "Path => PVR Juhu Mumbai <- Juhu Beach\n",
            "Path => Shivaji Park dadar <- Linking Rd <- Juhu Airport <- Pushpa Narsee Park <- Juhu Beach\n",
            "Path => JW Marriott Mumbai Juhu <- PVR Juhu Mumbai <- Juhu Beach\n",
            "Path => Shiv Sena Bhavan <- Linking Rd <- Juhu Airport <- Pushpa Narsee Park <- Juhu Beach\n",
            "Path => Dadar Railway Station <- Shiv Sena Bhavan <- Linking Rd <- Juhu Airport <- Pushpa Narsee Park <- Juhu Beach\n",
            "Path => Siddhivinayak Temple, Dadar <- Shivaji Park dadar <- Linking Rd <- Juhu Airport <- Pushpa Narsee Park <- Juhu Beach\n",
            "Path => Cooper Municipal Hospital <- PVR Juhu Mumbai <- Juhu Beach\n",
            "Path => Milan Subway Rd <- Juhu Airport <- Pushpa Narsee Park <- Juhu Beach\n",
            "Path => Nanavati Hospital <- Cooper Municipal Hospital <- PVR Juhu Mumbai <- Juhu Beach\n",
            "Path => Versova SOCIAL <- Juhu Beach\n",
            "Path => Mahalakshmi,Mumbai <- Siddhivinayak Temple, Dadar <- Shivaji Park dadar <- Linking Rd <- Juhu Airport <- Pushpa Narsee Park <- Juhu Beach\n",
            "Path => Nair Hospital <- Mahalakshmi,Mumbai <- Siddhivinayak Temple, Dadar <- Shivaji Park dadar <- Linking Rd <- Juhu Airport <- Pushpa Narsee Park <- Juhu Beach\n",
            "Path => Carter road Bandra west <- Nanavati Hospital <- Cooper Municipal Hospital <- PVR Juhu Mumbai <- Juhu Beach\n",
            "Path => Saifee Hospital <- Nair Hospital <- Mahalakshmi,Mumbai <- Siddhivinayak Temple, Dadar <- Shivaji Park dadar <- Linking Rd <- Juhu Airport <- Pushpa Narsee Park <- Juhu Beach\n",
            "\n",
            "\n",
            "Final\n",
            "\n",
            "Path => Gateway of India <- Saifee Hospital <- Nair Hospital <- Mahalakshmi,Mumbai <- Siddhivinayak Temple, Dadar <- Shivaji Park dadar <- Linking Rd <- Juhu Airport <- Pushpa Narsee Park <- Juhu Beach\n"
          ]
        }
      ]
    },
    {
      "cell_type": "code",
      "source": [],
      "metadata": {
        "id": "eeVg4JcipV18"
      },
      "execution_count": null,
      "outputs": []
    }
  ]
}