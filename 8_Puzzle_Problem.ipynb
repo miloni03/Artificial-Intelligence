{
  "nbformat": 4,
  "nbformat_minor": 0,
  "metadata": {
    "colab": {
      "provenance": []
    },
    "kernelspec": {
      "name": "python3",
      "display_name": "Python 3"
    },
    "language_info": {
      "name": "python"
    }
  },
  "cells": [
    {
      "cell_type": "markdown",
      "source": [
        "# 8 puzzle problem"
      ],
      "metadata": {
        "id": "gjipfHPK6cq5"
      }
    },
    {
      "cell_type": "code",
      "source": [
        "goal = [[1,2,3],\n",
        "        [4,5,6],\n",
        "        [7,8,0]]"
      ],
      "metadata": {
        "id": "1NAkdBMG7ME7"
      },
      "execution_count": null,
      "outputs": []
    },
    {
      "cell_type": "code",
      "source": [
        "def goaltest(current):\n",
        "  if current == goal :\n",
        "    print('This is the goal')\n",
        "  else :\n",
        "    #return movegen(current)\n",
        "    print('Goal not Found!')"
      ],
      "metadata": {
        "id": "CDOI6zw76geR"
      },
      "execution_count": null,
      "outputs": []
    },
    {
      "cell_type": "code",
      "source": [
        "def movegen(current):\n",
        "  final = []\n",
        "  if goaltest(current):\n",
        "    pass\n",
        "  else :\n",
        "    #find blank space i.e. find the index of 0\n",
        "    for i, x in enumerate(current):\n",
        "      if 0 in x:\n",
        "          blank = [i, x.index(0)]\n",
        "          #Now check possible states of traversal of 0\n",
        "\n",
        "          if blank[0]-1 >= 0:\n",
        "            final.append([blank[0]-1,blank[1]])\n",
        "\n",
        "          if blank[0]+1 <= 2 :\n",
        "            final.append([blank[0]+1,blank[1]])\n",
        "\n",
        "          if blank[1]-1 >= 0 :\n",
        "            final.append([blank[0],blank[1]-1])\n",
        "\n",
        "          if blank[1]+1 <= 2 :\n",
        "            final.append([blank[0],blank[1]+1])\n",
        "  return final          "
      ],
      "metadata": {
        "id": "sxuulsvv7tz2"
      },
      "execution_count": null,
      "outputs": []
    },
    {
      "cell_type": "code",
      "source": [
        "current = [[1,3,2],\n",
        "           [0,4,6],\n",
        "           [7,5,8]]\n",
        "print(movegen(current))"
      ],
      "metadata": {
        "colab": {
          "base_uri": "https://localhost:8080/"
        },
        "id": "yK9PWWJSBv7P",
        "outputId": "c62c689d-086f-4915-81a3-9e20a6dba07a"
      },
      "execution_count": null,
      "outputs": [
        {
          "output_type": "stream",
          "name": "stdout",
          "text": [
            "Goal not Found!\n",
            "[[0, 0], [2, 0], [1, 1]]\n"
          ]
        }
      ]
    },
    {
      "cell_type": "markdown",
      "source": [
        "# TSP "
      ],
      "metadata": {
        "id": "OpYh6eEmKgWw"
      }
    },
    {
      "cell_type": "code",
      "source": [
        "def goaltest(current_node,goal_node):\n",
        "  if current_node == goal_node :\n",
        "    return True\n",
        "  else :\n",
        "    return False"
      ],
      "metadata": {
        "id": "AcRmiNBXMfvZ"
      },
      "execution_count": null,
      "outputs": []
    },
    {
      "cell_type": "code",
      "source": [
        "def movegen_tsp(adj_mat,current_node,goal_node):\n",
        "  next = []\n",
        "  if goaltest(current_node,goal_node):\n",
        "    return True\n",
        "  else :\n",
        "    for i , vertex in enumerate(adj_mat[current_node]):\n",
        "      if vertex != 0:\n",
        "        next.append(i)\n",
        "    return next"
      ],
      "metadata": {
        "id": "T_AbhNsgKUqo"
      },
      "execution_count": null,
      "outputs": []
    },
    {
      "cell_type": "code",
      "source": [
        "vertices = int(input('Enter the number of vertices:'))\n",
        "adj_mat = []\n",
        "for i in range(vertices):\n",
        "  row = input().split()\n",
        "  row = list(map(int, row))\n",
        "  adj_mat.append(row)\n",
        "\n",
        "start = int(input('\\nENTER STARTING VERTEX: '))\n",
        "goal = int(input('ENTER GOAL VERTEX: '))\n",
        "\n",
        "nextMoves = movegen_tsp(adj_mat, start, goal)\n",
        "if(nextMoves == True):\n",
        "    print('TRAVERSED THE GRAPH')\n",
        "else:\n",
        "    print(nextMoves)"
      ],
      "metadata": {
        "colab": {
          "base_uri": "https://localhost:8080/"
        },
        "id": "9uN6UF1rQZBS",
        "outputId": "bad8d687-c4a7-40be-9a3d-79f2f0e171ae"
      },
      "execution_count": null,
      "outputs": [
        {
          "output_type": "stream",
          "name": "stdout",
          "text": [
            "Enter the number of vertices:4\n",
            "0 2 5 6\n",
            "1 3 7 8\n",
            "2 4 5 9\n",
            "1 7 8 0\n",
            "\n",
            "ENTER STARTING VERTEX: 2\n",
            "ENTER GOAL VERTEX: 5\n",
            "[0, 1, 2, 3]\n"
          ]
        }
      ]
    },
    {
      "cell_type": "markdown",
      "source": [
        "# Water Jug Problem"
      ],
      "metadata": {
        "id": "rm5kSI3JRAo4"
      }
    },
    {
      "cell_type": "code",
      "source": [
        "def goalTest(curr, goal):\n",
        "    if goal in curr:\n",
        "        return True\n",
        "    else:\n",
        "        return False"
      ],
      "metadata": {
        "id": "w6PC_KAfRRYI"
      },
      "execution_count": null,
      "outputs": []
    },
    {
      "cell_type": "code",
      "source": [
        "def moveGen(curr, max, goal):\n",
        "    if(goalTest(curr, goal)):\n",
        "        return True\n",
        "    \n",
        "    n = len(curr)\n",
        "    next = []\n",
        "    for from_ in range(n):\n",
        "        for to_ in range(n):\n",
        "            water = curr.copy()\n",
        "            if from_ != to_ and water[from_] != 0 and water[to_] != max[to_]:\n",
        "                avail_space = max[to_] - water[to_]\n",
        "                extra = water[from_] - avail_space\n",
        "                if extra < 0:\n",
        "                    extra = 0\n",
        "                pour = water[from_] - extra\n",
        "                water[from_] = water[from_] - pour\n",
        "                water[to_] = water[to_] + pour\n",
        "                next.append(water)\n",
        "    return next"
      ],
      "metadata": {
        "id": "V7ULEEKzRIkH"
      },
      "execution_count": null,
      "outputs": []
    },
    {
      "cell_type": "code",
      "source": [
        "jugs = int(input('ENTER NUMBERS OF JUGS '))\n",
        "\n",
        "max = []\n",
        "start = []\n",
        "for i in range(jugs):\n",
        "    max.append(int(input(f'ENTER MAX CAPACITY OF JUG {i+1}: ')))\n",
        "    start.append(int(input(f'ENTER INITIAL LEVEL OF JUG {i+1}: ')))\n",
        "\n",
        "goal = int(input('ENTER WATER LEVEL TO FIND: '))\n",
        "\n",
        "moves = moveGen(start, max, goal)\n",
        "\n",
        "if(moves == True):\n",
        "    print('WATER LEVEL FOUND!')\n",
        "else:\n",
        "    print(moves)"
      ],
      "metadata": {
        "colab": {
          "base_uri": "https://localhost:8080/"
        },
        "id": "I102wY-NRWCv",
        "outputId": "daf53ef3-3188-433d-d5d7-e5ef383c23e1"
      },
      "execution_count": null,
      "outputs": [
        {
          "output_type": "stream",
          "name": "stdout",
          "text": [
            "ENTER NUMBERS OF JUGS 3\n",
            "ENTER MAX CAPACITY OF JUG 1: 8\n",
            "ENTER INITIAL LEVEL OF JUG 1: 0\n",
            "ENTER MAX CAPACITY OF JUG 2: 8\n",
            "ENTER INITIAL LEVEL OF JUG 2: 3\n",
            "ENTER MAX CAPACITY OF JUG 3: 8\n",
            "ENTER INITIAL LEVEL OF JUG 3: 5\n",
            "ENTER WATER LEVEL TO FIND: 5\n",
            "WATER LEVEL FOUND!\n"
          ]
        }
      ]
    }
  ]
}