{
  "nbformat": 4,
  "nbformat_minor": 0,
  "metadata": {
    "colab": {
      "provenance": []
    },
    "kernelspec": {
      "name": "python3",
      "display_name": "Python 3"
    },
    "language_info": {
      "name": "python"
    }
  },
  "cells": [
    {
      "cell_type": "code",
      "execution_count": null,
      "metadata": {
        "colab": {
          "base_uri": "https://localhost:8080/"
        },
        "id": "YzpaRfItwlUi",
        "outputId": "19cc37e4-f3c8-46ad-e81b-50ef55014fda"
      },
      "outputs": [
        {
          "output_type": "stream",
          "name": "stdout",
          "text": [
            "[[['D', 'C', 'B', 'A'], ['E', 'F']], [], [], []]\n",
            "[[['D', 'C', 'B', 'A']], [['E', 'F']], [], []]\n",
            "Final state -  [[['D', 'C', 'B', 'A']], [['E', 'F']], [], []]\n"
          ]
        }
      ],
      "source": [
        "import copy\n",
        "\n",
        "visited_states = []\n",
        "\n",
        "# heuristic fn - number of misplaced blocks as compared to goal state \n",
        "def heuristic(curr_state,goal_state):\n",
        "    goal_=goal_state[3]\n",
        "    val=0\n",
        "    for i in range(len(curr_state)):\n",
        "        check_val=curr_state[i]\n",
        "        if len(check_val)>0:\n",
        "            for j in range(len(check_val)):\n",
        "                if check_val[j]!=goal_[j]:\n",
        "                    # val-=1\n",
        "                    val-=j\n",
        "                else:\n",
        "                    # val+=1\n",
        "                    val+=j\n",
        "    return val\n",
        "            \n",
        "# generate next possible solution for the current state\n",
        "def generate_next(curr_state,prev_heu,goal_state):\n",
        "    global visited_states\n",
        "    state = copy.deepcopy(curr_state)\n",
        "    for i in range(len(state)):\n",
        "        temp = copy.deepcopy(state)\n",
        "        if len(temp[i]) > 0:\n",
        "            elem = temp[i].pop()\n",
        "            for j in range(len(temp)):\n",
        "                temp1 = copy.deepcopy(temp)\n",
        "                if j != i:\n",
        "                    temp1[j] = temp1[j] + [elem]\n",
        "                    if (temp1 not in visited_states):\n",
        "                        curr_heu=heuristic(temp1,goal_state)\n",
        "                        # if a better state than previous state of found\n",
        "                        if curr_heu>prev_heu:\n",
        "                            child = copy.deepcopy(temp1)\n",
        "                            return child\n",
        "    \n",
        "    # no better soln than current state is possible\n",
        "    return 0\n",
        "\n",
        "def solution_(init_state,goal_state):\n",
        "    global visited_states\n",
        "\n",
        "    # checking if initial state is already the final state\n",
        "    if (init_state == goal_state):\n",
        "        print (goal_state)\n",
        "        print(\"solution found!\")\n",
        "        return\n",
        "    \n",
        "    current_state = copy.deepcopy(init_state)\n",
        "    \n",
        "    # loop while goal is found or no better optimal solution is possible\n",
        "    while(True):\n",
        "\n",
        "        # add current state to visited to avoid repetition\n",
        "        visited_states.append(copy.deepcopy(current_state))\n",
        "\n",
        "        print(current_state)\n",
        "        prev_heu=heuristic(current_state,goal_state)\n",
        "\n",
        "        # generate possible better child from current state\n",
        "        child = generate_next(current_state,prev_heu,goal_state)\n",
        "        \n",
        "        # No more better states are possible\n",
        "        if child==0:\n",
        "            print(\"Final state - \",current_state)\n",
        "            return\n",
        "            \n",
        "        # change current state to child\n",
        "        current_state = copy.deepcopy(child)  \n",
        "\n",
        "def solver():\n",
        "    # maintaining a global visited to save all visited and avoid repetition & infinite loop condition\n",
        "    global visited_states\n",
        "    # inputs\n",
        "    init_state = [[['D','C','B','A'],['E','F']],[],[],[]]\n",
        "    goal_state = [[],[],[],[['D','C','B','E','A'],['F']]]\n",
        "    # goal_state = [[],[],[],['A','D','C','B']]\n",
        "    solution_(init_state,goal_state)\n",
        "\n",
        "solver()"
      ]
    }
  ]
}