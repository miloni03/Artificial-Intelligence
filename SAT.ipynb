{
  "nbformat": 4,
  "nbformat_minor": 0,
  "metadata": {
    "colab": {
      "provenance": []
    },
    "kernelspec": {
      "name": "python3",
      "display_name": "Python 3"
    },
    "language_info": {
      "name": "python"
    }
  },
  "cells": [
    {
      "cell_type": "code",
      "execution_count": null,
      "metadata": {
        "id": "2e0Hg8JT4xDX"
      },
      "outputs": [],
      "source": [
        "class SATInstance(object):\n",
        "    def parse_and_add_clause(self, line):\n",
        "        clause = []\n",
        "        for literal in line.split():\n",
        "            negated = 1 if literal.startswith('~') else 0\n",
        "            variable = literal[negated:]\n",
        "            if variable not in self.variable_table:\n",
        "                self.variable_table[variable] = len(self.variables)\n",
        "                self.variables.append(variable)\n",
        "            encoded_literal = self.variable_table[variable] << 1 | negated\n",
        "            clause.append(encoded_literal)\n",
        "        self.clauses.append(tuple(set(clause)))\n",
        "\n",
        "    def __init__(self):\n",
        "        self.variables = []\n",
        "        self.variable_table = dict()\n",
        "        self.clauses = []\n",
        "\n",
        "    @classmethod\n",
        "    def from_file(cls, file):\n",
        "        instance = cls()\n",
        "        for line in file:\n",
        "            line = line.strip()\n",
        "            if len(line) > 0 and not line.startswith('#'):\n",
        "                instance.parse_and_add_clause(line)\n",
        "        return instance\n",
        "\n",
        "    def literal_to_string(self, literal):\n",
        "        s = '~' if literal & 1 else ''\n",
        "        return s + self.variables[literal >> 1]\n",
        "\n",
        "    def clause_to_string(self, clause):\n",
        "        return ' '.join(self.literal_to_string(l) for l in clause)\n",
        "\n",
        "    def assignment_to_string(self, assignment, brief=False, starting_with=''):\n",
        "        literals = []\n",
        "        for a, v in ((a, v) for a, v in zip(assignment, self.variables)\n",
        "                     if v.startswith(starting_with)):\n",
        "            if a == 0 and not brief:\n",
        "                literals.append('~' + v)\n",
        "            elif a:\n",
        "                literals.append(v)\n",
        "        return ' '.join(literals)"
      ]
    },
    {
      "cell_type": "code",
      "source": [],
      "metadata": {
        "id": "-uten7qC58eK"
      },
      "execution_count": null,
      "outputs": []
    }
  ]
}