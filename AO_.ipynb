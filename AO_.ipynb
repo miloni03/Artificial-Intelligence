{
  "nbformat": 4,
  "nbformat_minor": 0,
  "metadata": {
    "colab": {
      "provenance": []
    },
    "kernelspec": {
      "name": "python3",
      "display_name": "Python 3"
    },
    "language_info": {
      "name": "python"
    }
  },
  "cells": [
    {
      "cell_type": "code",
      "source": [
        "class Graph:\n",
        "    def __init__(self, graph, heuristicNodeList, startNode): #instantiate graph object with graph topology, heuristic values, start node\n",
        "        self.graph = graph\n",
        "        self.H=heuristicNodeList\n",
        "        self.start=startNode\n",
        "        self.parent={}\n",
        "        self.status={}\n",
        "        self.solutionGraph={}\n",
        "        \n",
        "    def applyAOStar(self): # starts a recursive AO* algorithm\n",
        "        self.aoStar(self.start, False)\n",
        "\n",
        "    def getNeighbors(self, v): # gets the Neighbors of a given node\n",
        "        return self.graph.get(v,'')\n",
        "\n",
        "    def getStatus(self,v): # return the status of a given node\n",
        "        return self.status.get(v,0)\n",
        "\n",
        "    def setStatus(self,v, val): # set the status of a given node\n",
        "        self.status[v]=val\n",
        "\n",
        "    def getHeuristicNodeValue(self, n):\n",
        "        return self.H.get(n,0) # always return the heuristic value of a given node\n",
        "\n",
        "    def setHeuristicNodeValue(self, n, value):\n",
        "        self.H[n]=value # set the revised heuristic value of a given node\n",
        "\n",
        "    def printSolution(self):\n",
        "        print(\"FOR GRAPH SOLUTION, TRAVERSE THE GRAPH FROM THE START NODE:\",self.start)\n",
        "        print(\"------------------------------------------------------------\")\n",
        "        print(self.solutionGraph)\n",
        "        print(\"------------------------------------------------------------\")\n",
        "\n",
        "    def computeMinimumCostChildNodes(self, v): # Computes the Minimum Cost of child nodes of a given node v\n",
        "        minimumCost=0\n",
        "        costToChildNodeListDict={}\n",
        "        costToChildNodeListDict[minimumCost]=[]\n",
        "        flag=True\n",
        "        for nodeInfoTupleList in self.getNeighbors(v): # iterate over all the set of child node/s\n",
        "            cost=0\n",
        "            nodeList=[]\n",
        "            for c, weight in nodeInfoTupleList:\n",
        "                cost=cost+self.getHeuristicNodeValue(c)+weight\n",
        "                nodeList.append(c)\n",
        "            if flag==True: # initialize Minimum Cost with the cost of first set of child node/s\n",
        "                minimumCost=cost\n",
        "                costToChildNodeListDict[minimumCost]=nodeList # set the Minimum Cost child node/s\n",
        "                flag=False\n",
        "            else: # checking the Minimum Cost nodes with the current Minimum Cost\n",
        "                if minimumCost>cost:\n",
        "                    minimumCost=cost\n",
        "                    costToChildNodeListDict[minimumCost]=nodeList # set the Minimum Cost child node/s\n",
        "        return minimumCost, costToChildNodeListDict[minimumCost] # return Minimum Cost and Minimum Cost child node/s\n",
        "\n",
        "    def aoStar(self, v, backTracking): # AO* algorithm for a start node and backTracking status flag\n",
        "        print(\"HEURISTIC VALUES :\", self.H)\n",
        "        print(\"SOLUTION GRAPH :\", self.solutionGraph)\n",
        "        print(\"PROCESSING NODE :\", v)\n",
        "        print(\"-----------------------------------------------------------------------------------------\")\n",
        "        if self.getStatus(v) >= 0: # if status node v >= 0, compute Minimum Cost nodes of v\n",
        "            minimumCost, childNodeList = self.computeMinimumCostChildNodes(v)\n",
        "            print(minimumCost, childNodeList)\n",
        "            self.setHeuristicNodeValue(v, minimumCost)\n",
        "            self.setStatus(v,len(childNodeList))\n",
        "            solved=True # check the Minimum Cost nodes of v are solved\n",
        "            for childNode in childNodeList:\n",
        "                self.parent[childNode]=v\n",
        "                if self.getStatus(childNode)!=-1:\n",
        "                    solved=solved & False\n",
        "            if solved==True: # if the Minimum Cost nodes of v are solved, set the current node status as solved(-1)\n",
        "                self.setStatus(v,-1)\n",
        "                self.solutionGraph[v]=childNodeList # update the solution graph with the solved nodes which may be a part of solution\n",
        "            if v!=self.start: # check the current node is the start node for backtracking the current node value\n",
        "                self.aoStar(self.parent[v], True) # backtracking the current node value with backtracking status set to true\n",
        "            if backTracking==False: # check the current call is not for backtracking \n",
        "                for childNode in childNodeList: # for each Minimum Cost child node\n",
        "                    self.setStatus(childNode,0) # set the status of child node to 0(needs exploration)\n",
        "                    self.aoStar(childNode, False) # Minimum Cost child node is further explored with backtracking status as false"
      ],
      "metadata": {
        "id": "4OkmXj0Prs51"
      },
      "execution_count": null,
      "outputs": []
    },
    {
      "cell_type": "code",
      "execution_count": null,
      "metadata": {
        "id": "h5thsIJ5giKb"
      },
      "outputs": [],
      "source": [
        "leaf_nodes = {'Train':2200, 'Bus':2000, 'Air':7000, \n",
        "     'Stay1':8000, 'Meal1':4000, 'Package1':14000, 'Stay2':10000, 'Meal2':5000, 'Package2':15000, 'Stay3':12000, 'Meal3':6000, 'Package3':18000, \n",
        "     'Cook':2000, 'Cost of VV1':30000, 'Eat outside':3000, 'Cost of VV2':30000}\n",
        "\n",
        "graph_1 = {'Plan a trip' : [[('Travel', 0), ('Hotel', 0)], [('Vanity Van', 100)]], \n",
        "           'Travel':[[('Train', 4090)], [('Bus', 1180)], [('Air', 4050)]], \n",
        "           'Hotel Book':[[('A', 600)], [('B', 1340)], [('C', 4030)]],\n",
        "           'Vanity Van':[[('Cook', 0), ('Cost of VV1', 0)], [('Eat outside', 0), ('Cost of VV2', 0)]],\n",
        "           'A':[[('Stay1', 0), ('Meal1', 0)], [('Package1', 0)]], \n",
        "           'B':[[('Stay2', 0), ('Meal2', 0)], [('Package2', 0)]],\n",
        "           'C':[[('Stay3', 0), ('Meal3', 0)], [('Package3', 0)]]\n",
        "        }"
      ]
    },
    {
      "cell_type": "code",
      "source": [
        "G1= Graph(graph_1, leaf_nodes, 'Plan a trip')\n",
        "G1.applyAOStar()\n",
        "G1.printSolution()"
      ],
      "metadata": {
        "colab": {
          "base_uri": "https://localhost:8080/"
        },
        "id": "oF3f2Ygk5jWR",
        "outputId": "9032b4de-d96b-40e6-8310-aedc97db2dc7"
      },
      "execution_count": null,
      "outputs": [
        {
          "output_type": "stream",
          "name": "stdout",
          "text": [
            "HEURISTIC VALUES : {'Train': 2200, 'Bus': 2000, 'Air': 7000, 'Stay1': 8000, 'Meal1': 4000, 'Package1': 14000, 'Stay2': 10000, 'Meal2': 5000, 'Package2': 15000, 'Stay3': 12000, 'Meal3': 6000, 'Package3': 18000, 'Cook': 2000, 'Cost of VV1': 30000, 'Eat outside': 3000, 'Cost of VV2': 30000}\n",
            "SOLUTION GRAPH : {}\n",
            "PROCESSING NODE : Plan a trip\n",
            "-----------------------------------------------------------------------------------------\n",
            "0 ['Travel', 'Hotel']\n",
            "HEURISTIC VALUES : {'Train': 2200, 'Bus': 2000, 'Air': 7000, 'Stay1': 8000, 'Meal1': 4000, 'Package1': 14000, 'Stay2': 10000, 'Meal2': 5000, 'Package2': 15000, 'Stay3': 12000, 'Meal3': 6000, 'Package3': 18000, 'Cook': 2000, 'Cost of VV1': 30000, 'Eat outside': 3000, 'Cost of VV2': 30000, 'Plan a trip': 0}\n",
            "SOLUTION GRAPH : {}\n",
            "PROCESSING NODE : Travel\n",
            "-----------------------------------------------------------------------------------------\n",
            "3180 ['Bus']\n",
            "HEURISTIC VALUES : {'Train': 2200, 'Bus': 2000, 'Air': 7000, 'Stay1': 8000, 'Meal1': 4000, 'Package1': 14000, 'Stay2': 10000, 'Meal2': 5000, 'Package2': 15000, 'Stay3': 12000, 'Meal3': 6000, 'Package3': 18000, 'Cook': 2000, 'Cost of VV1': 30000, 'Eat outside': 3000, 'Cost of VV2': 30000, 'Plan a trip': 0, 'Travel': 3180}\n",
            "SOLUTION GRAPH : {}\n",
            "PROCESSING NODE : Plan a trip\n",
            "-----------------------------------------------------------------------------------------\n",
            "100 ['Vanity Van']\n",
            "HEURISTIC VALUES : {'Train': 2200, 'Bus': 2000, 'Air': 7000, 'Stay1': 8000, 'Meal1': 4000, 'Package1': 14000, 'Stay2': 10000, 'Meal2': 5000, 'Package2': 15000, 'Stay3': 12000, 'Meal3': 6000, 'Package3': 18000, 'Cook': 2000, 'Cost of VV1': 30000, 'Eat outside': 3000, 'Cost of VV2': 30000, 'Plan a trip': 100, 'Travel': 3180}\n",
            "SOLUTION GRAPH : {}\n",
            "PROCESSING NODE : Bus\n",
            "-----------------------------------------------------------------------------------------\n",
            "0 []\n",
            "HEURISTIC VALUES : {'Train': 2200, 'Bus': 0, 'Air': 7000, 'Stay1': 8000, 'Meal1': 4000, 'Package1': 14000, 'Stay2': 10000, 'Meal2': 5000, 'Package2': 15000, 'Stay3': 12000, 'Meal3': 6000, 'Package3': 18000, 'Cook': 2000, 'Cost of VV1': 30000, 'Eat outside': 3000, 'Cost of VV2': 30000, 'Plan a trip': 100, 'Travel': 3180}\n",
            "SOLUTION GRAPH : {'Bus': []}\n",
            "PROCESSING NODE : Travel\n",
            "-----------------------------------------------------------------------------------------\n",
            "1180 ['Bus']\n",
            "HEURISTIC VALUES : {'Train': 2200, 'Bus': 0, 'Air': 7000, 'Stay1': 8000, 'Meal1': 4000, 'Package1': 14000, 'Stay2': 10000, 'Meal2': 5000, 'Package2': 15000, 'Stay3': 12000, 'Meal3': 6000, 'Package3': 18000, 'Cook': 2000, 'Cost of VV1': 30000, 'Eat outside': 3000, 'Cost of VV2': 30000, 'Plan a trip': 100, 'Travel': 1180}\n",
            "SOLUTION GRAPH : {'Bus': [], 'Travel': ['Bus']}\n",
            "PROCESSING NODE : Plan a trip\n",
            "-----------------------------------------------------------------------------------------\n",
            "100 ['Vanity Van']\n",
            "HEURISTIC VALUES : {'Train': 2200, 'Bus': 0, 'Air': 7000, 'Stay1': 8000, 'Meal1': 4000, 'Package1': 14000, 'Stay2': 10000, 'Meal2': 5000, 'Package2': 15000, 'Stay3': 12000, 'Meal3': 6000, 'Package3': 18000, 'Cook': 2000, 'Cost of VV1': 30000, 'Eat outside': 3000, 'Cost of VV2': 30000, 'Plan a trip': 100, 'Travel': 1180}\n",
            "SOLUTION GRAPH : {'Bus': [], 'Travel': ['Bus']}\n",
            "PROCESSING NODE : Hotel\n",
            "-----------------------------------------------------------------------------------------\n",
            "0 []\n",
            "HEURISTIC VALUES : {'Train': 2200, 'Bus': 0, 'Air': 7000, 'Stay1': 8000, 'Meal1': 4000, 'Package1': 14000, 'Stay2': 10000, 'Meal2': 5000, 'Package2': 15000, 'Stay3': 12000, 'Meal3': 6000, 'Package3': 18000, 'Cook': 2000, 'Cost of VV1': 30000, 'Eat outside': 3000, 'Cost of VV2': 30000, 'Plan a trip': 100, 'Travel': 1180, 'Hotel': 0}\n",
            "SOLUTION GRAPH : {'Bus': [], 'Travel': ['Bus'], 'Hotel': []}\n",
            "PROCESSING NODE : Plan a trip\n",
            "-----------------------------------------------------------------------------------------\n",
            "100 ['Vanity Van']\n",
            "FOR GRAPH SOLUTION, TRAVERSE THE GRAPH FROM THE START NODE: Plan a trip\n",
            "------------------------------------------------------------\n",
            "{'Bus': [], 'Travel': ['Bus'], 'Hotel': []}\n",
            "------------------------------------------------------------\n"
          ]
        }
      ]
    },
    {
      "cell_type": "code",
      "source": [],
      "metadata": {
        "id": "aUnjv0FP5wTH"
      },
      "execution_count": null,
      "outputs": []
    }
  ]
}